{
 "cells": [
  {
   "cell_type": "markdown",
   "id": "ae7b68ca-5b59-4f14-ab9c-4896edc040cf",
   "metadata": {},
   "source": [
    "# Clustering"
   ]
  },
  {
   "cell_type": "code",
   "execution_count": 3,
   "id": "55d32d30-c25f-49fb-a3d5-0e6986895ef8",
   "metadata": {},
   "outputs": [],
   "source": [
    "import pandas as pd\n",
    "import numpy as np\n",
    "\n",
    "import seaborn as sns\n",
    "from matplotlib import pyplot as plt\n",
    "\n",
    "import env"
   ]
  },
  {
   "cell_type": "markdown",
   "id": "74e3c732-55c8-4f6d-865b-8c7cebdf1a65",
   "metadata": {},
   "source": [
    "## Data Wrangling Exercises"
   ]
  },
  {
   "cell_type": "markdown",
   "id": "09e1509a-fd96-4d54-b09b-13e0fbe6dc61",
   "metadata": {},
   "source": [
    "### Acquire(acquire.py)"
   ]
  },
  {
   "cell_type": "markdown",
   "id": "fea122ec-06ec-4c13-98cc-8fff830ce383",
   "metadata": {},
   "source": [
    "#### Zillow"
   ]
  },
  {
   "cell_type": "code",
   "execution_count": 4,
   "id": "2883f6a7-2c40-438d-981e-c6c92c59e5ed",
   "metadata": {},
   "outputs": [],
   "source": [
    "url = env.get_db_url('zillow')"
   ]
  },
  {
   "cell_type": "code",
   "execution_count": 10,
   "id": "c6c8271c-84d9-42fa-9371-79ed51cea9df",
   "metadata": {},
   "outputs": [],
   "source": [
    "zillow = pd.read_sql('''\n",
    "SELECT *\n",
    "FROM properties_2017\n",
    "JOIN predictions_2017\n",
    "USING(parcelid)\n",
    "LEFT JOIN propertylandusetype\n",
    "USING(propertylandusetypeid)\n",
    "LEFT JOIN storytype\n",
    "USING(storytypeid)\n",
    "LEFT JOIN typeconstructiontype\n",
    "USING(typeconstructiontypeid)\n",
    "LEFT JOIN airconditioningtype\n",
    "USING(airconditioningtypeid)\n",
    "LEFT JOIN architecturalstyletype\n",
    "USING(architecturalstyletypeid)\n",
    "LEFT JOIN buildingclasstype\n",
    "USING(buildingclasstypeid)\n",
    "LEFT JOIN heatingorsystemtype\n",
    "USING(heatingorsystemtypeid)\n",
    "''',url)"
   ]
  },
  {
   "cell_type": "code",
   "execution_count": 11,
   "id": "9c4cbd0d-85a2-46b9-b8b1-ca9dc9daee8f",
   "metadata": {},
   "outputs": [],
   "source": [
    "zillow.to_csv('zillow',index=False)"
   ]
  },
  {
   "cell_type": "code",
   "execution_count": 12,
   "id": "821434c6-650b-49ce-b371-8f09d5fa3fa5",
   "metadata": {},
   "outputs": [
    {
     "name": "stdout",
     "output_type": "stream",
     "text": [
      "<class 'pandas.core.frame.DataFrame'>\n",
      "RangeIndex: 77614 entries, 0 to 77613\n",
      "Data columns (total 69 columns):\n",
      " #   Column                        Non-Null Count  Dtype  \n",
      "---  ------                        --------------  -----  \n",
      " 0   heatingorsystemtypeid         49572 non-null  float64\n",
      " 1   buildingclasstypeid           15 non-null     float64\n",
      " 2   architecturalstyletypeid      207 non-null    float64\n",
      " 3   airconditioningtypeid         25007 non-null  float64\n",
      " 4   typeconstructiontypeid        223 non-null    float64\n",
      " 5   storytypeid                   50 non-null     float64\n",
      " 6   propertylandusetypeid         77580 non-null  float64\n",
      " 7   parcelid                      77614 non-null  int64  \n",
      " 8   id                            77614 non-null  int64  \n",
      " 9   basementsqft                  50 non-null     float64\n",
      " 10  bathroomcnt                   77580 non-null  float64\n",
      " 11  bedroomcnt                    77580 non-null  float64\n",
      " 12  buildingqualitytypeid         49810 non-null  float64\n",
      " 13  calculatedbathnbr             76964 non-null  float64\n",
      " 14  decktypeid                    614 non-null    float64\n",
      " 15  finishedfloor1squarefeet      6037 non-null   float64\n",
      " 16  calculatedfinishedsquarefeet  77379 non-null  float64\n",
      " 17  finishedsquarefeet12          73924 non-null  float64\n",
      " 18  finishedsquarefeet13          42 non-null     float64\n",
      " 19  finishedsquarefeet15          3027 non-null   float64\n",
      " 20  finishedsquarefeet50          6037 non-null   float64\n",
      " 21  finishedsquarefeet6           386 non-null    float64\n",
      " 22  fips                          77580 non-null  float64\n",
      " 23  fireplacecnt                  8289 non-null   float64\n",
      " 24  fullbathcnt                   76964 non-null  float64\n",
      " 25  garagecarcnt                  25520 non-null  float64\n",
      " 26  garagetotalsqft               25520 non-null  float64\n",
      " 27  hashottuborspa                1539 non-null   float64\n",
      " 28  latitude                      77580 non-null  float64\n",
      " 29  longitude                     77580 non-null  float64\n",
      " 30  lotsizesquarefeet             69322 non-null  float64\n",
      " 31  poolcnt                       16174 non-null  float64\n",
      " 32  poolsizesum                   869 non-null    float64\n",
      " 33  pooltypeid10                  465 non-null    float64\n",
      " 34  pooltypeid2                   1074 non-null   float64\n",
      " 35  pooltypeid7                   15079 non-null  float64\n",
      " 36  propertycountylandusecode     77580 non-null  object \n",
      " 37  propertyzoningdesc            50477 non-null  object \n",
      " 38  rawcensustractandblock        77580 non-null  float64\n",
      " 39  regionidcity                  76108 non-null  float64\n",
      " 40  regionidcounty                77580 non-null  float64\n",
      " 41  regionidneighborhood          30974 non-null  float64\n",
      " 42  regionidzip                   77530 non-null  float64\n",
      " 43  roomcnt                       77580 non-null  float64\n",
      " 44  threequarterbathnbr           10106 non-null  float64\n",
      " 45  unitcnt                       50704 non-null  float64\n",
      " 46  yardbuildingsqft17            2393 non-null   float64\n",
      " 47  yardbuildingsqft26            70 non-null     float64\n",
      " 48  yearbuilt                     77310 non-null  float64\n",
      " 49  numberofstories               17599 non-null  float64\n",
      " 50  fireplaceflag                 172 non-null    float64\n",
      " 51  structuretaxvaluedollarcnt    77465 non-null  float64\n",
      " 52  taxvaluedollarcnt             77579 non-null  float64\n",
      " 53  assessmentyear                77580 non-null  float64\n",
      " 54  landtaxvaluedollarcnt         77578 non-null  float64\n",
      " 55  taxamount                     77575 non-null  float64\n",
      " 56  taxdelinquencyflag            2900 non-null   object \n",
      " 57  taxdelinquencyyear            2900 non-null   float64\n",
      " 58  censustractandblock           77333 non-null  float64\n",
      " 59  id                            77614 non-null  int64  \n",
      " 60  logerror                      77614 non-null  float64\n",
      " 61  transactiondate               77614 non-null  object \n",
      " 62  propertylandusedesc           77580 non-null  object \n",
      " 63  storydesc                     50 non-null     object \n",
      " 64  typeconstructiondesc          223 non-null    object \n",
      " 65  airconditioningdesc           25007 non-null  object \n",
      " 66  architecturalstyledesc        207 non-null    object \n",
      " 67  buildingclassdesc             15 non-null     object \n",
      " 68  heatingorsystemdesc           49572 non-null  object \n",
      "dtypes: float64(55), int64(3), object(11)\n",
      "memory usage: 40.9+ MB\n"
     ]
    }
   ],
   "source": [
    "zillow.info()"
   ]
  },
  {
   "cell_type": "code",
   "execution_count": null,
   "id": "091204f7-4482-40eb-9354-db4ef91f91c0",
   "metadata": {},
   "outputs": [],
   "source": []
  }
 ],
 "metadata": {
  "kernelspec": {
   "display_name": "Python 3 (ipykernel)",
   "language": "python",
   "name": "python3"
  },
  "language_info": {
   "codemirror_mode": {
    "name": "ipython",
    "version": 3
   },
   "file_extension": ".py",
   "mimetype": "text/x-python",
   "name": "python",
   "nbconvert_exporter": "python",
   "pygments_lexer": "ipython3",
   "version": "3.9.7"
  }
 },
 "nbformat": 4,
 "nbformat_minor": 5
}
