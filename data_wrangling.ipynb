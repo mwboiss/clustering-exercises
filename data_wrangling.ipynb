{
 "cells": [
  {
   "cell_type": "markdown",
   "id": "ae7b68ca-5b59-4f14-ab9c-4896edc040cf",
   "metadata": {},
   "source": [
    "# Clustering"
   ]
  },
  {
   "cell_type": "code",
   "execution_count": 27,
   "id": "55d32d30-c25f-49fb-a3d5-0e6986895ef8",
   "metadata": {},
   "outputs": [],
   "source": [
    "import pandas as pd\n",
    "import numpy as np\n",
    "\n",
    "import seaborn as sns\n",
    "from matplotlib import pyplot as plt\n",
    "\n",
    "import env\n",
    "\n",
    "import warnings\n",
    "warnings.filterwarnings('ignore')\n",
    "\n",
    "pd.options.display.max_columns = None\n",
    "pd.options.display.max_rows = None"
   ]
  },
  {
   "cell_type": "markdown",
   "id": "74e3c732-55c8-4f6d-865b-8c7cebdf1a65",
   "metadata": {},
   "source": [
    "## Data Wrangling Exercises"
   ]
  },
  {
   "cell_type": "markdown",
   "id": "09e1509a-fd96-4d54-b09b-13e0fbe6dc61",
   "metadata": {},
   "source": [
    "### Acquire(acquire.py)"
   ]
  },
  {
   "cell_type": "markdown",
   "id": "fea122ec-06ec-4c13-98cc-8fff830ce383",
   "metadata": {},
   "source": [
    "#### Zillow\n",
    "\n",
    "For the following, iterate through the steps you would take to create functions: Write the code to do the following in a jupyter notebook, test it, convert to functions, then create the file to house those functions.\n",
    "\n",
    "You will have a zillow.ipynb file and a helper file for each section in the pipeline.\n",
    "\n",
    "acquire & summarize\n",
    "Acquire data from mySQL using the python module to connect and query. You will want to end with a single dataframe. Make sure to include: the logerror, all fields related to the properties that are available. You will end up using all the tables in the database.\n",
    "\n",
    "Be sure to do the correct join (inner, outer, etc.). We do not want to eliminate properties purely because they may have a null value for airconditioningtypeid.\n",
    "Only include properties with a transaction in 2017, and include only the last transaction for each property (so no duplicate property ID's), along with zestimate error and date of transaction.\n",
    "Only include properties that include a latitude and longitude value."
   ]
  },
  {
   "cell_type": "code",
   "execution_count": 94,
   "id": "c6c8271c-84d9-42fa-9371-79ed51cea9df",
   "metadata": {},
   "outputs": [],
   "source": [
    "# url = env.get_db_url('zillow')\n",
    "\n",
    "# zillow = pd.read_sql('''\n",
    "# SELECT *\n",
    "# FROM properties_2017\n",
    "# JOIN (SELECT parcelid as pid, MAX(transactiondate) as maxdate FROM predictions_2017 GROUP BY parcelid) as last_date\n",
    "# ON last_date.pid = parcelid\n",
    "# LEFT JOIN (SELECT parcelid as pid, transactiondate as maxdate, logerror FROM predictions_2017) as log\n",
    "# ON last_date.pid = log.pid AND last_date.maxdate = log.maxdate\n",
    "# LEFT JOIN propertylandusetype\n",
    "# USING(propertylandusetypeid)\n",
    "# LEFT JOIN storytype\n",
    "# USING(storytypeid)\n",
    "# LEFT JOIN typeconstructiontype\n",
    "# USING(typeconstructiontypeid)\n",
    "# LEFT JOIN airconditioningtype\n",
    "# USING(airconditioningtypeid)\n",
    "# LEFT JOIN architecturalstyletype\n",
    "# USING(architecturalstyletypeid)\n",
    "# LEFT JOIN buildingclasstype\n",
    "# USING(buildingclasstypeid)\n",
    "# LEFT JOIN heatingorsystemtype\n",
    "# USING(heatingorsystemtypeid)\n",
    "# ''',url)\n",
    "\n",
    "# zillow.to_csv('zillow.csv',index=False)"
   ]
  },
  {
   "cell_type": "code",
   "execution_count": 91,
   "id": "9c4cbd0d-85a2-46b9-b8b1-ca9dc9daee8f",
   "metadata": {},
   "outputs": [],
   "source": [
    "# zillow = pd.read_csv('zillow.csv')"
   ]
  },
  {
   "cell_type": "code",
   "execution_count": 95,
   "id": "821434c6-650b-49ce-b371-8f09d5fa3fa5",
   "metadata": {},
   "outputs": [],
   "source": [
    "# zillow = zillow.drop(columns=['id','pid','maxdate'])"
   ]
  },
  {
   "cell_type": "code",
   "execution_count": 99,
   "id": "c3965dbd-cde9-4eba-a89d-433cb8adbd6a",
   "metadata": {},
   "outputs": [],
   "source": [
    "# zillow = zillow.dropna(subset=['latitude','longitude'])"
   ]
  },
  {
   "cell_type": "markdown",
   "id": "bc43c02d-8315-4d6c-90d1-dccb2b6f60c1",
   "metadata": {},
   "source": [
    "Summarize your data (summary stats, info, dtypes, shape, distributions, value_counts, etc.)"
   ]
  },
  {
   "cell_type": "code",
   "execution_count": 100,
   "id": "479037ea-1688-4c33-a90b-6af28d28f00d",
   "metadata": {},
   "outputs": [
    {
     "data": {
      "text/plain": [
       "(77381, 66)"
      ]
     },
     "execution_count": 100,
     "metadata": {},
     "output_type": "execute_result"
    }
   ],
   "source": [
    "# zillow.shape"
   ]
  },
  {
   "cell_type": "code",
   "execution_count": 216,
   "id": "21e36cc4-851e-44aa-96f6-5ec7a07c1cf1",
   "metadata": {},
   "outputs": [],
   "source": [
    "# zillow.describe(include='all')"
   ]
  },
  {
   "cell_type": "code",
   "execution_count": 270,
   "id": "78ccaa2b-07ea-4bad-8ec3-c13dfc70a338",
   "metadata": {},
   "outputs": [
    {
     "name": "stdout",
     "output_type": "stream",
     "text": [
      "<class 'pandas.core.frame.DataFrame'>\n",
      "Int64Index: 77381 entries, 0 to 77413\n",
      "Data columns (total 66 columns):\n",
      " #   Column                        Non-Null Count  Dtype  \n",
      "---  ------                        --------------  -----  \n",
      " 0   heatingorsystemtypeid         49440 non-null  float64\n",
      " 1   buildingclasstypeid           15 non-null     float64\n",
      " 2   architecturalstyletypeid      206 non-null    float64\n",
      " 3   airconditioningtypeid         24953 non-null  float64\n",
      " 4   typeconstructiontypeid        222 non-null    float64\n",
      " 5   storytypeid                   50 non-null     float64\n",
      " 6   propertylandusetypeid         77381 non-null  float64\n",
      " 7   parcelid                      77381 non-null  int64  \n",
      " 8   basementsqft                  50 non-null     float64\n",
      " 9   bathroomcnt                   77381 non-null  float64\n",
      " 10  bedroomcnt                    77381 non-null  float64\n",
      " 11  buildingqualitytypeid         49672 non-null  float64\n",
      " 12  calculatedbathnbr             76772 non-null  float64\n",
      " 13  decktypeid                    614 non-null    float64\n",
      " 14  finishedfloor1squarefeet      6023 non-null   float64\n",
      " 15  calculatedfinishedsquarefeet  77185 non-null  float64\n",
      " 16  finishedsquarefeet12          73749 non-null  float64\n",
      " 17  finishedsquarefeet13          41 non-null     float64\n",
      " 18  finishedsquarefeet15          3009 non-null   float64\n",
      " 19  finishedsquarefeet50          6023 non-null   float64\n",
      " 20  finishedsquarefeet6           386 non-null    float64\n",
      " 21  fips                          77381 non-null  float64\n",
      " 22  fireplacecnt                  8276 non-null   float64\n",
      " 23  fullbathcnt                   76772 non-null  float64\n",
      " 24  garagecarcnt                  25474 non-null  float64\n",
      " 25  garagetotalsqft               25474 non-null  float64\n",
      " 26  hashottuborspa                1538 non-null   float64\n",
      " 27  latitude                      77381 non-null  float64\n",
      " 28  longitude                     77381 non-null  float64\n",
      " 29  lotsizesquarefeet             69142 non-null  float64\n",
      " 30  poolcnt                       16137 non-null  float64\n",
      " 31  poolsizesum                   867 non-null    float64\n",
      " 32  pooltypeid10                  464 non-null    float64\n",
      " 33  pooltypeid2                   1074 non-null   float64\n",
      " 34  pooltypeid7                   15042 non-null  float64\n",
      " 35  propertycountylandusecode     77381 non-null  object \n",
      " 36  propertyzoningdesc            50331 non-null  object \n",
      " 37  rawcensustractandblock        77381 non-null  float64\n",
      " 38  regionidcity                  75910 non-null  float64\n",
      " 39  regionidcounty                77381 non-null  float64\n",
      " 40  regionidneighborhood          30890 non-null  float64\n",
      " 41  regionidzip                   77331 non-null  float64\n",
      " 42  roomcnt                       77381 non-null  float64\n",
      " 43  threequarterbathnbr           10096 non-null  float64\n",
      " 44  unitcnt                       50563 non-null  float64\n",
      " 45  yardbuildingsqft17            2388 non-null   float64\n",
      " 46  yardbuildingsqft26            70 non-null     float64\n",
      " 47  yearbuilt                     77118 non-null  float64\n",
      " 48  numberofstories               17560 non-null  float64\n",
      " 49  fireplaceflag                 172 non-null    float64\n",
      " 50  structuretaxvaluedollarcnt    77269 non-null  float64\n",
      " 51  taxvaluedollarcnt             77380 non-null  float64\n",
      " 52  assessmentyear                77381 non-null  float64\n",
      " 53  landtaxvaluedollarcnt         77379 non-null  float64\n",
      " 54  taxamount                     77376 non-null  float64\n",
      " 55  taxdelinquencyflag            2886 non-null   object \n",
      " 56  taxdelinquencyyear            2886 non-null   float64\n",
      " 57  censustractandblock           77137 non-null  float64\n",
      " 58  logerror                      77381 non-null  float64\n",
      " 59  propertylandusedesc           77381 non-null  object \n",
      " 60  storydesc                     50 non-null     object \n",
      " 61  typeconstructiondesc          222 non-null    object \n",
      " 62  airconditioningdesc           24953 non-null  object \n",
      " 63  architecturalstyledesc        206 non-null    object \n",
      " 64  buildingclassdesc             15 non-null     object \n",
      " 65  heatingorsystemdesc           49440 non-null  object \n",
      "dtypes: float64(55), int64(1), object(10)\n",
      "memory usage: 39.6+ MB\n"
     ]
    }
   ],
   "source": [
    "zillow.info()"
   ]
  },
  {
   "cell_type": "code",
   "execution_count": 214,
   "id": "c82f7bbd-c133-4998-ac78-35dc930d7f43",
   "metadata": {},
   "outputs": [],
   "source": [
    "# zillow.hist(figsize=(40,20), bins =20)\n",
    "# plt.show()"
   ]
  },
  {
   "cell_type": "markdown",
   "id": "7579e101-e428-47af-adf1-794fa04044f6",
   "metadata": {},
   "source": [
    "Write a function that takes in a dataframe of observations and attributes and returns a dataframe where each row is an atttribute name, the first column is the number of rows with missing values for that attribute, and the second column is percent of total rows that have missing values for that attribute. Run the function and document takeaways from this on how you want to handle missing values."
   ]
  },
  {
   "cell_type": "code",
   "execution_count": 212,
   "id": "091204f7-4482-40eb-9354-db4ef91f91c0",
   "metadata": {},
   "outputs": [],
   "source": [
    "def missing_rows(df):\n",
    "    return pd.concat([\n",
    "           df.isna().sum().rename('count'),\n",
    "           df.isna().mean().rename('percent')\n",
    "           ], axis=1)\n",
    "\n",
    "# missing_rows(zillow)"
   ]
  },
  {
   "cell_type": "markdown",
   "id": "701d3478-01f5-4542-8c83-6964e7b45904",
   "metadata": {},
   "source": [
    "Write a function that takes in a dataframe and returns a dataframe with 3 columns: the number of columns missing, percent of columns missing, and number of rows with n columns missing. Run the function and document takeaways from this on how you want to handle missing values."
   ]
  },
  {
   "cell_type": "code",
   "execution_count": 213,
   "id": "2883f6a7-2c40-438d-981e-c6c92c59e5ed",
   "metadata": {},
   "outputs": [],
   "source": [
    "def missing_columns(df):\n",
    "    col_missing = pd.concat([\n",
    "    df.isna().sum(axis=1).rename('num_cols_missing'),\n",
    "    df.isna().mean(axis=1).rename('pct_cols_missing'),\n",
    "    ], axis=1).value_counts().sort_index()\n",
    "    col_missing = pd.DataFrame(col_missing)\n",
    "    col_missing.rename(columns={0:'num_rows'},inplace=True)\n",
    "    return col_missing.reset_index()\n",
    "\n",
    "# missing_columns(zillow)"
   ]
  },
  {
   "cell_type": "markdown",
   "id": "e7425658-c6d1-4f91-9d0b-dab5ca81ce58",
   "metadata": {},
   "source": [
    "## Prepare\n",
    "Remove any properties that are likely to be something other than single unit properties. (e.g. no duplexes, no land/lot, ...). There are multiple ways to estimate that a property is a single unit, and there is not a single \"right\" answer. But for this exercise, do not purely filter by unitcnt as we did previously. Add some new logic that will reduce the number of properties that are falsely removed. You might want to use # bedrooms, square feet, unit type or the like to then identify those with unitcnt not defined."
   ]
  },
  {
   "cell_type": "code",
   "execution_count": 243,
   "id": "06b6f6d9-3332-4e18-a14b-1642d3788fca",
   "metadata": {},
   "outputs": [],
   "source": [
    "prop_type_single = zillow[zillow['propertylandusetypeid'].isin([260,261,263,264,266,267,269])]"
   ]
  },
  {
   "cell_type": "code",
   "execution_count": 266,
   "id": "c1c9dd80-148e-415f-8291-ce945c8bc46b",
   "metadata": {},
   "outputs": [],
   "source": [
    "prop_type_single.unitcnt.drop(labels=[2,3,4,6],inplace = True)"
   ]
  },
  {
   "cell_type": "code",
   "execution_count": 267,
   "id": "7651d74a-7ab5-48d3-8555-a042edc7eb01",
   "metadata": {},
   "outputs": [
    {
     "data": {
      "text/plain": [
       "1.0    47263\n",
       "NaN    26402\n",
       "2.0       33\n",
       "3.0        3\n",
       "4.0        2\n",
       "6.0        1\n",
       "Name: unitcnt, dtype: int64"
      ]
     },
     "execution_count": 267,
     "metadata": {},
     "output_type": "execute_result"
    }
   ],
   "source": [
    "prop_type_single.unitcnt.value_counts(dropna=False)"
   ]
  },
  {
   "cell_type": "code",
   "execution_count": null,
   "id": "48993e01-40c8-4f2f-aa13-c4f46358d3d1",
   "metadata": {},
   "outputs": [],
   "source": []
  },
  {
   "cell_type": "code",
   "execution_count": null,
   "id": "93992131-1ee3-46a4-80fa-9e61c85c2bf4",
   "metadata": {},
   "outputs": [],
   "source": []
  },
  {
   "cell_type": "code",
   "execution_count": null,
   "id": "d9cc1044-abf3-470a-bb08-4d04889894f4",
   "metadata": {},
   "outputs": [],
   "source": []
  },
  {
   "cell_type": "code",
   "execution_count": null,
   "id": "ecaa1a6f-c6af-4208-ac85-06260130784c",
   "metadata": {},
   "outputs": [],
   "source": []
  },
  {
   "cell_type": "markdown",
   "id": "994dad18-cb65-409f-a8ce-09f6cf72729f",
   "metadata": {},
   "source": [
    "Create a function that will drop rows or columns based on the percent of values that are missing: handle_missing_values(df, prop_required_column, prop_required_row).\n",
    "\n",
    "- The input:\n",
    "    - A dataframe\n",
    "    - A number between 0 and 1 that represents the proportion, for each column, of rows with non-missing values required to keep the column. i.e. if prop_required_column = .6, then you are requiring a column to have at least 60% of values not-NA (no more than 40% missing).\n",
    "    - A number between 0 and 1 that represents the proportion, for each row, of columns/variables with non-missing values required to keep the row. For example, if prop_required_row = .75, then you are requiring a row to have at least 75% of variables with a non-missing value (no more that 25% missing).\n",
    "- The output:\n",
    "    - The dataframe with the columns and rows dropped as indicated. Be sure to drop the columns prior to the rows in your function.\n",
    "- hint:\n",
    "    - Look up the dropna documentation.\n",
    "    - You will want to compute a threshold from your input values (prop_required) and total number of rows or columns.\n",
    "    - Make use of inplace, i.e. inplace=True/False."
   ]
  },
  {
   "cell_type": "code",
   "execution_count": null,
   "id": "1f373022-531c-4373-aebb-1aa520b46dc7",
   "metadata": {},
   "outputs": [],
   "source": []
  },
  {
   "cell_type": "markdown",
   "id": "8758201c-d98f-44e5-b2a1-4338741372da",
   "metadata": {},
   "source": [
    "Decide how to handle the remaining missing values:\n",
    "\n",
    "- Fill with constant value.\n",
    "- Impute with mean, median, mode.\n",
    "- Drop row/column"
   ]
  },
  {
   "cell_type": "code",
   "execution_count": null,
   "id": "3f76ec0f-9b07-4c5c-9feb-bd22badbcf1e",
   "metadata": {},
   "outputs": [],
   "source": []
  },
  {
   "cell_type": "markdown",
   "id": "432d0c2e-cc42-4847-b4d4-e271e2ee89cf",
   "metadata": {},
   "source": [
    "## wrangle_zillow.py\n",
    "\n",
    "Functions of the work above needed to acquire and prepare a new sample of data."
   ]
  },
  {
   "cell_type": "code",
   "execution_count": null,
   "id": "9c63f604-5455-4fe7-95ac-d226af9a13da",
   "metadata": {},
   "outputs": [],
   "source": []
  },
  {
   "cell_type": "markdown",
   "id": "8bc8c692-9964-4723-a431-8b77880da994",
   "metadata": {},
   "source": [
    "# Mall Customers\n",
    "\n",
    "## notebook\n",
    "\n",
    "- Acquire data from mall_customers.customers in mysql database.\n",
    "- Summarize data (include distributions and descriptive statistics).\n",
    "- Detect outliers using IQR.\n",
    "- Split data (train, validate, and test split).\n",
    "- Encode categorical columns using a one hot encoder (pd.get_dummies).\n",
    "- Handles missing values.\n",
    "- Scaling"
   ]
  },
  {
   "cell_type": "code",
   "execution_count": null,
   "id": "221887ab-6283-48b7-a1b5-917ca09efec6",
   "metadata": {},
   "outputs": [],
   "source": []
  },
  {
   "cell_type": "markdown",
   "id": "d97876f3-2317-4905-b599-5b6fb0511bfd",
   "metadata": {},
   "source": [
    "## wrangle_mall.py\n",
    "\n",
    "- Acquire data from mall_customers.customers in mysql database.\n",
    "- Split the data into train, validate, and split\n",
    "- One-hot-encoding (pd.get_dummies)\n",
    "- Missing values\n",
    "- Scaling\n",
    "\n",
    "Add, commit, and push all of your work."
   ]
  },
  {
   "cell_type": "code",
   "execution_count": null,
   "id": "276619bf-0c01-4798-aa2b-83f6720c5a91",
   "metadata": {},
   "outputs": [],
   "source": []
  },
  {
   "cell_type": "code",
   "execution_count": null,
   "id": "eea6f839-6ccd-4e99-9bfd-2c7776783eda",
   "metadata": {},
   "outputs": [],
   "source": []
  }
 ],
 "metadata": {
  "kernelspec": {
   "display_name": "Python 3 (ipykernel)",
   "language": "python",
   "name": "python3"
  },
  "language_info": {
   "codemirror_mode": {
    "name": "ipython",
    "version": 3
   },
   "file_extension": ".py",
   "mimetype": "text/x-python",
   "name": "python",
   "nbconvert_exporter": "python",
   "pygments_lexer": "ipython3",
   "version": "3.9.7"
  }
 },
 "nbformat": 4,
 "nbformat_minor": 5
}
